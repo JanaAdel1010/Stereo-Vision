{
 "cells": [
  {
   "cell_type": "code",
   "execution_count": 22,
   "id": "8d09b234",
   "metadata": {},
   "outputs": [],
   "source": [
    "import cv2 \n",
    "import numpy as np"
   ]
  },
  {
   "cell_type": "markdown",
   "id": "487e1dfd",
   "metadata": {},
   "source": [
    "The compute_disparity_map function performs stereo block matching to generate a disparity map from two rectified grayscale images. \n",
    "It compares local patches around each pixel in the left image with patches in the right image using either the Sum of Absolute Differences (SAD) or Sum of Squared Differences (SSD) as a matching metric. The function iterates over each pixel, searches across a specified disparity range, and records the disparity corresponding to the best match. This approach is fundamental in stereo vision to infer depth from image pairs.\n"
   ]
  },
  {
   "cell_type": "code",
   "execution_count": 23,
   "id": "829ed095",
   "metadata": {},
   "outputs": [],
   "source": [
    "\n",
    "def compute_disparity_map(Il, Ir, window_size, method, max_disparity=192):\n",
    "\n",
    "    h, w = Il.shape\n",
    "    half_w = window_size // 2\n",
    "    disparity_map = np.zeros((h, w), dtype=np.uint8) \n",
    "    \n",
    "    padded_Il = cv2.copyMakeBorder(Il, half_w, half_w, half_w, half_w, cv2.BORDER_CONSTANT, 0) # pad the left image\n",
    "    padded_Ir = cv2.copyMakeBorder(Ir, half_w, half_w, half_w, half_w, cv2.BORDER_CONSTANT, 0) # pad the right image\n",
    "\n",
    "    for y in range(half_w, h + half_w):\n",
    "        for x in range(half_w, w + half_w):\n",
    "            best_offset = 0\n",
    "            best_score = float('inf')\n",
    "\n",
    "            left_patch = padded_Il[y - half_w:y + half_w + 1, x - half_w:x + half_w + 1]\n",
    "\n",
    "            for offset in range(max_disparity):\n",
    "                xr = x - offset # right image x coordinate\n",
    "                if xr - half_w < 0:\n",
    "                    continue  # out of bounds on right image\n",
    "\n",
    "                right_patch = padded_Ir[y - half_w:y + half_w + 1, xr - half_w:xr + half_w + 1] # get the right patch\n",
    "                \n",
    "                if method == \"SAD\":\n",
    "                    score = np.sum(np.abs(left_patch - right_patch))\n",
    "                elif method == \"SSD\":\n",
    "                    score = np.sum((left_patch - right_patch) ** 2)\n",
    "                else:\n",
    "                    raise ValueError(\"Unknown method: choose 'SAD' or 'SSD'\")\n",
    "\n",
    "                if score < best_score: # update best score\n",
    "                    best_score = score\n",
    "                    best_offset = offset\n",
    "\n",
    "            disparity_map[y - half_w, x - half_w] = best_offset # store the best offset in the disparity map\n",
    "\n",
    "    return disparity_map\n"
   ]
  },
  {
   "cell_type": "code",
   "execution_count": 24,
   "id": "25367d74",
   "metadata": {},
   "outputs": [
    {
     "name": "stdout",
     "output_type": "stream",
     "text": [
      "Processing SAD with window size 1...\n",
      "Processing SSD with window size 1...\n",
      "Processing SAD with window size 5...\n",
      "Processing SSD with window size 5...\n",
      "Processing SAD with window size 9...\n",
      "Processing SSD with window size 9...\n",
      "All disparity maps saved in 'stereo_materials/' folder.\n"
     ]
    }
   ],
   "source": [
    "# Load stereo images\n",
    "imgl = cv2.imread('stereo_materials/l1.png', cv2.IMREAD_GRAYSCALE)\n",
    "imgr = cv2.imread('stereo_materials/r1.png', cv2.IMREAD_GRAYSCALE)\n",
    "\n",
    "# Set parameters\n",
    "window_sizes = [1, 5, 9]\n",
    "methods = [\"SAD\", \"SSD\"]\n",
    "\n",
    "for window_size in window_sizes:\n",
    "    for method in methods:\n",
    "        print(f\"Processing {method} with window size {window_size}...\")\n",
    "        \n",
    "        disparity_map = compute_disparity_map(imgl, imgr, window_size, method)\n",
    "        \n",
    "        # Normalize for visualization\n",
    "        disp_display = cv2.normalize(disparity_map, None, alpha=0, beta=255, norm_type=cv2.NORM_MINMAX)\n",
    "        disp_display = np.uint8(disp_display)\n",
    "        \n",
    "        # Save image\n",
    "        output_filename = f\"stereo_materials/disparity_{method}_w{window_size}.png\"\n",
    "        cv2.imwrite(output_filename, disp_display)\n",
    "\n",
    "        #Show the result\n",
    "        cv2.imshow(f'Disparity {method} Window {window_size}', disp_display)\n",
    "        cv2.waitKey(500)  # Show each for 0.5 seconds\n",
    "\n",
    "cv2.destroyAllWindows()\n",
    "\n",
    "print(\"All disparity maps saved in 'stereo_materials/' folder.\")\n"
   ]
  }
 ],
 "metadata": {
  "kernelspec": {
   "display_name": "Python 3",
   "language": "python",
   "name": "python3"
  },
  "language_info": {
   "codemirror_mode": {
    "name": "ipython",
    "version": 3
   },
   "file_extension": ".py",
   "mimetype": "text/x-python",
   "name": "python",
   "nbconvert_exporter": "python",
   "pygments_lexer": "ipython3",
   "version": "3.12.4"
  }
 },
 "nbformat": 4,
 "nbformat_minor": 5
}
